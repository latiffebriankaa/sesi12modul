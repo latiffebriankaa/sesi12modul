{
 "cells": [
  {
   "cell_type": "code",
   "execution_count": 59,
   "id": "95951046-418a-46f4-a1d8-d6f787034823",
   "metadata": {},
   "outputs": [],
   "source": [
    "#fungsi tanpa parameter\n",
    "import datetime as dt\n",
    "def showdate():\n",
    "    today = dt.date.today()\n",
    "    print(f\"sekarang tanggal :{today}\")\n",
    "\n",
    "def isweekday():\n",
    "    week = dt.date.today().weekday()\n",
    "    if week >= 5:\n",
    "        print(f\"hari ini adalah weekend\")\n",
    "    else:\n",
    "        print(\"sekarang saatnya kuliah\")\n",
    "\n"
   ]
  },
  {
   "cell_type": "code",
   "execution_count": 61,
   "id": "7d88a7b1-461b-42ff-97c6-ad0e955aeec7",
   "metadata": {},
   "outputs": [],
   "source": [
    "#fungsi dengan parameter\n",
    "def getfulname(first,mid,last):\n",
    "    return(f\"welcome {first} {mid} {last} .S.T \")"
   ]
  },
  {
   "cell_type": "code",
   "execution_count": 63,
   "id": "26841c44-d752-4e45-a29e-c4de7d0d864f",
   "metadata": {},
   "outputs": [
    {
     "name": "stdin",
     "output_type": "stream",
     "text": [
      "masukan bilangan 1 : 10\n",
      "masukan bilangan 2 : 2\n"
     ]
    },
    {
     "name": "stdout",
     "output_type": "stream",
     "text": [
      "10 + 2 = 12\n",
      "10 * 2 = 20\n",
      "12 + 20 = 32\n",
      "10 + 2 = 12\n",
      "10 * 2 = 20\n"
     ]
    }
   ],
   "source": [
    "#fungsi dengan parameter dan retun value untuk aritmatika\n",
    "\n",
    "def addNumber(num1,num2):\n",
    "    return num1 + num2 \n",
    "\n",
    "def multiplaynumber(num1,num2):\n",
    "    return num1* num2\n",
    "\n",
    "def addmullnumber(num1,num2):\n",
    "    add = num1 + num2\n",
    "    mul = num1 * num2\n",
    "    return add,mul\n",
    "\n",
    "\n",
    "input1 = int(input(\"masukan bilangan 1 :\"))\n",
    "input2 = int(input(\"masukan bilangan 2 :\"))\n",
    "r1 = addNumber(input1 , input2)\n",
    "r2 = multiplaynumber(input1 , input2)\n",
    "r3 = addNumber(r1,r2)\n",
    "add,mull = addmullnumber(input1 , input2)\n",
    "\n",
    "print(f\"{input1} + {input2} = {r1}\")\n",
    "print(f\"{input1} * {input2} = {r2}\")\n",
    "print(f\"{r1} + {r2} = {r3}\")# hasil penjumlahan r1 dan r2\n",
    "\n",
    "#menggunakan yg 2 return\n",
    "print(f\"{input1} + {input2} = {add}\")\n",
    "print(f\"{input1} * {input2} = {mull}\")\n"
   ]
  },
  {
   "cell_type": "code",
   "execution_count": 65,
   "id": "6f41633b-dbf0-4aca-b44b-29342f4d7691",
   "metadata": {},
   "outputs": [],
   "source": [
    "#fungsi degnan nilai default\n",
    "def daftar_rekening(no_ktp, nama, saldo=100000):\n",
    "    ket = f\"akun berhasil di buat :\\n\"\n",
    "    ket += f\"No ktp:{no_ktp} \\n\"\n",
    "    ket += f\"No nama:{nama} \\n\"\n",
    "    ket += f\"saldo awal anda:{saldo} \\n\"\n",
    "    return ket\n",
    "\n",
    "\n",
    "def user_registation(username , password, nama, status=False, rol=\"user\"):\n",
    "    print(f\"poses registrasi berhasil\\n\")\n",
    "    print(f\"username : {username}\\n\")\n",
    "    print(f\"nama : {nama}\\n\")\n",
    "    print(f\"role : {rol}\\n\")\n",
    "    \n",
    "    \n",
    "    "
   ]
  },
  {
   "cell_type": "code",
   "execution_count": 77,
   "id": "6f028e1f-09cf-4610-adb2-ed7bcf46a2c4",
   "metadata": {},
   "outputs": [
    {
     "name": "stdout",
     "output_type": "stream",
     "text": [
      "sekarang tanggal :2025-05-21\n",
      "sekarang saatnya kuliah\n",
      "welcome latip febrianka  saputra .S.T \n",
      "akun berhasil di buat :\n",
      "No ktp:087824255831 \n",
      "No nama:febrianka \n",
      "saldo awal anda:100000 \n",
      "\n",
      "\n",
      "poses registrasi berhasil\n",
      "\n",
      "username : febrianka\n",
      "\n",
      "nama : rol\n",
      "\n",
      "role : user\n",
      "\n",
      "None\n",
      "poses registrasi berhasil\n",
      "\n",
      "username : febrianka\n",
      "\n",
      "nama : True\n",
      "\n",
      "role : user\n",
      "\n",
      "None\n"
     ]
    }
   ],
   "source": [
    "showdate()\n",
    "isweekday()\n",
    "print(getfulname(\"latip\",\"febrianka\",\" saputra\"))\n",
    "print(daftar_rekening(\"087824255831\",\"febrianka\",))\n",
    "print(\"\")\n",
    "print(user_registation(\"febrianka\",\"latip\",\"rol\"))\n",
    "print(user_registation(\"febrianka\",\"latip\",True,\"admin\"))\n"
   ]
  },
  {
   "cell_type": "code",
   "execution_count": 93,
   "id": "e24bc55a-2ff5-4b09-b617-5f8bf17c622f",
   "metadata": {},
   "outputs": [
    {
     "name": "stdout",
     "output_type": "stream",
     "text": [
      "args: ('jan', 'feb', 'mar')\n",
      "kwargs: {'nama': 'latp', 'umur': '21', 'alamt': 'jl rh didi sukardi'}\n",
      "args: ('jan', 'feb', 'mar')\n",
      "kwargs: {'nama': 'latp', 'umur': '21', 'alamt': 'jl rh didi sukardi'}\n",
      "(('jan', 'feb', 'mar'), {'nama': 'latp', 'umur': '21', 'alamt': 'jl rh didi sukardi'})\n",
      "mar\n"
     ]
    }
   ],
   "source": [
    "#function argumen dan keywoard argumen\n",
    "def printdata(*args,**kwargs):\n",
    "    print(\"args:\",args)\n",
    "    print(\"kwargs:\",kwargs)\n",
    "    return args,kwargs\n",
    "args,kwargs =printdata(\"jan\",\"feb\", \"mar\",nama = \"latp\",umur= \"21\",alamt=\"jl rh didi sukardi\")\n",
    "print(printdata(\"jan\",\"feb\", \"mar\",nama = \"latp\",umur= \"21\",alamt=\"jl rh didi sukardi\"))\n",
    "print(args[2])"
   ]
  },
  {
   "cell_type": "code",
   "execution_count": 105,
   "id": "7b683dfb-9dfb-4b78-ae82-ca258073538e",
   "metadata": {},
   "outputs": [
    {
     "name": "stdout",
     "output_type": "stream",
     "text": [
      "total jumlah : 10\n"
     ]
    }
   ],
   "source": [
    "#buatlah fungsi untuk penjumlahan dengan jumlah parameter bebas\n",
    "def penjumalahan_tanpa_parameter(*nomor):\n",
    "    total = 0\n",
    "    for i in nomor:\n",
    "        total += int(i)\n",
    "    return total\n",
    "\n",
    "print(f\"total jumlah : {penjumalahan_tanpa_parameter(1,2,3,4)}\")\n"
   ]
  },
  {
   "cell_type": "code",
   "execution_count": null,
   "id": "4dc71937-7480-4d35-a817-4c45faf3bfef",
   "metadata": {},
   "outputs": [],
   "source": [
    "#modul dan import\n"
   ]
  }
 ],
 "metadata": {
  "kernelspec": {
   "display_name": "Python [conda env:base] *",
   "language": "python",
   "name": "conda-base-py"
  },
  "language_info": {
   "codemirror_mode": {
    "name": "ipython",
    "version": 3
   },
   "file_extension": ".py",
   "mimetype": "text/x-python",
   "name": "python",
   "nbconvert_exporter": "python",
   "pygments_lexer": "ipython3",
   "version": "3.12.7"
  }
 },
 "nbformat": 4,
 "nbformat_minor": 5
}
