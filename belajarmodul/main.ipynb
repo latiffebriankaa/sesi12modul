{
 "cells": [
  {
   "cell_type": "code",
   "execution_count": 56,
   "id": "54df94c2-2ea5-49a6-9236-d77fb806f266",
   "metadata": {},
   "outputs": [
    {
     "name": "stdout",
     "output_type": "stream",
     "text": [
      "2\n",
      "25\n"
     ]
    }
   ],
   "source": [
    "import aritmatic.math as m \n",
    "import convert.convert as c\n",
    "print(m.add(1,2))\n",
    "print(m.pow(5,5))\n",
    "\n"
   ]
  },
  {
   "cell_type": "code",
   "execution_count": 60,
   "id": "d2b24a8e-6270-4b80-b828-79331d9d09d7",
   "metadata": {
    "scrolled": true
   },
   "outputs": [
    {
     "name": "stdin",
     "output_type": "stream",
     "text": [
      "masukan meter: 10\n"
     ]
    },
    {
     "ename": "TypeError",
     "evalue": "'module' object is not callable",
     "output_type": "error",
     "traceback": [
      "\u001b[1;31m---------------------------------------------------------------------------\u001b[0m",
      "\u001b[1;31mTypeError\u001b[0m                                 Traceback (most recent call last)",
      "Cell \u001b[1;32mIn[60], line 2\u001b[0m\n\u001b[0;32m      1\u001b[0m panjang \u001b[38;5;241m=\u001b[39m \u001b[38;5;28mint\u001b[39m(\u001b[38;5;28minput\u001b[39m(\u001b[38;5;124m\"\u001b[39m\u001b[38;5;124mmasukan meter:\u001b[39m\u001b[38;5;124m\"\u001b[39m))\n\u001b[1;32m----> 2\u001b[0m \u001b[38;5;28mprint\u001b[39m(\u001b[38;5;124mf\u001b[39m\u001b[38;5;124m\"\u001b[39m\u001b[38;5;124mpanjang dala centimeter adalah : \u001b[39m\u001b[38;5;132;01m{\u001b[39;00mc(panjang)\u001b[38;5;132;01m}\u001b[39;00m\u001b[38;5;124m \u001b[39m\u001b[38;5;124m\"\u001b[39m)\n",
      "\u001b[1;31mTypeError\u001b[0m: 'module' object is not callable"
     ]
    }
   ],
   "source": [
    "panjang = int(input(\"masukan meter:\"))\n",
    "print(f\"panjang dala centimeter adalah : {c(panjang)} \")"
   ]
  },
  {
   "cell_type": "code",
   "execution_count": 54,
   "id": "caf00094-da5d-4534-8169-e1499c84ba02",
   "metadata": {},
   "outputs": [
    {
     "name": "stdout",
     "output_type": "stream",
     "text": [
      " \n",
      "1.aritmatik\n",
      "2.convert\n",
      "3.exit\n",
      "\n"
     ]
    },
    {
     "name": "stdin",
     "output_type": "stream",
     "text": [
      "isikan pilihan menu :  1 \n"
     ]
    },
    {
     "name": "stdout",
     "output_type": "stream",
     "text": [
      "\n",
      "1.add\n",
      "2.pow\n",
      "3.multiplay\n",
      "\n"
     ]
    },
    {
     "name": "stdin",
     "output_type": "stream",
     "text": [
      "isikan pilihan aritmatika :   2\n",
      "masukan bilangan 1  1\n",
      "masukan bilangan 2  1\n"
     ]
    },
    {
     "name": "stdout",
     "output_type": "stream",
     "text": [
      "1*1 = 1\n",
      " \n",
      "1.aritmatik\n",
      "2.convert\n",
      "3.exit\n",
      "\n"
     ]
    },
    {
     "name": "stdin",
     "output_type": "stream",
     "text": [
      "isikan pilihan menu :  1\n"
     ]
    },
    {
     "name": "stdout",
     "output_type": "stream",
     "text": [
      "\n",
      "1.add\n",
      "2.pow\n",
      "3.multiplay\n",
      "\n"
     ]
    },
    {
     "name": "stdin",
     "output_type": "stream",
     "text": [
      "isikan pilihan aritmatika :   1\n",
      "masukan paramter pertama :  4\n",
      "masukan paramter kedua :  4\n"
     ]
    },
    {
     "name": "stdout",
     "output_type": "stream",
     "text": [
      "2\n",
      " \n",
      "1.aritmatik\n",
      "2.convert\n",
      "3.exit\n",
      "\n"
     ]
    },
    {
     "name": "stdin",
     "output_type": "stream",
     "text": [
      "isikan pilihan menu :  1\n"
     ]
    },
    {
     "name": "stdout",
     "output_type": "stream",
     "text": [
      "\n",
      "1.add\n",
      "2.pow\n",
      "3.multiplay\n",
      "\n"
     ]
    },
    {
     "name": "stdin",
     "output_type": "stream",
     "text": [
      "isikan pilihan aritmatika :   2\n",
      "masukan bilangan 1  1\n",
      "masukan bilangan 2  3\n"
     ]
    },
    {
     "name": "stdout",
     "output_type": "stream",
     "text": [
      "1*3 = 3\n",
      " \n",
      "1.aritmatik\n",
      "2.convert\n",
      "3.exit\n",
      "\n"
     ]
    },
    {
     "name": "stdin",
     "output_type": "stream",
     "text": [
      "isikan pilihan menu :  2\n"
     ]
    },
    {
     "name": "stdout",
     "output_type": "stream",
     "text": [
      " \n",
      "1.centimter ke meter\n",
      "2.meter ke centimeter\n",
      "\n"
     ]
    },
    {
     "name": "stdin",
     "output_type": "stream",
     "text": [
      "isikan pilihan convert 1\n"
     ]
    },
    {
     "name": "stdout",
     "output_type": "stream",
     "text": [
      " \n",
      "1.aritmatik\n",
      "2.convert\n",
      "3.exit\n",
      "\n"
     ]
    },
    {
     "name": "stdin",
     "output_type": "stream",
     "text": [
      "isikan pilihan menu :  exit\n"
     ]
    },
    {
     "ename": "ValueError",
     "evalue": "invalid literal for int() with base 10: 'exit'",
     "output_type": "error",
     "traceback": [
      "\u001b[1;31m---------------------------------------------------------------------------\u001b[0m",
      "\u001b[1;31mValueError\u001b[0m                                Traceback (most recent call last)",
      "Cell \u001b[1;32mIn[54], line 24\u001b[0m\n\u001b[0;32m     22\u001b[0m \u001b[38;5;28;01mwhile\u001b[39;00m \u001b[38;5;28;01mTrue\u001b[39;00m:\n\u001b[0;32m     23\u001b[0m     menuutama()\n\u001b[1;32m---> 24\u001b[0m     pilihmenu \u001b[38;5;241m=\u001b[39m \u001b[38;5;28mint\u001b[39m(\u001b[38;5;28minput\u001b[39m(\u001b[38;5;124m\"\u001b[39m\u001b[38;5;124misikan pilihan menu : \u001b[39m\u001b[38;5;124m\"\u001b[39m))\n\u001b[0;32m     25\u001b[0m     \u001b[38;5;28;01mif\u001b[39;00m pilihmenu \u001b[38;5;241m==\u001b[39m \u001b[38;5;241m1\u001b[39m:\n\u001b[0;32m     26\u001b[0m         menuaritmatika()\n",
      "\u001b[1;31mValueError\u001b[0m: invalid literal for int() with base 10: 'exit'"
     ]
    }
   ],
   "source": [
    "def menuutama():\n",
    "    print(''' \n",
    "1.aritmatik\n",
    "2.convert\n",
    "3.exit\n",
    "''')\n",
    "\n",
    "def menuaritmatika():\n",
    "    print('''\n",
    "1.add\n",
    "2.pow\n",
    "3.multiplay\n",
    "''')\n",
    "    \n",
    "def menuconvert():\n",
    "    print(''' \n",
    "1.centimter ke meter\n",
    "2.meter ke centimeter\n",
    "''')\n",
    "\n",
    "    \n",
    "while True:\n",
    "    menuutama()\n",
    "    pilihmenu = int(input(\"isikan pilihan menu : \"))\n",
    "    if pilihmenu == 1:\n",
    "        menuaritmatika()\n",
    "        piliharitmatika = int (input(\"isikan pilihan aritmatika :  \"))\n",
    "        if piliharitmatika == 1:\n",
    "            num1 = int(input(\"masukan paramter pertama : \"))\n",
    "            num2 = int(input(\"masukan paramter kedua : \"))\n",
    "            print(m.add(num1,num2))\n",
    "        \n",
    "        elif piliharitmatika == 2:\n",
    "            num1 = int(input(\"masukan bilangan 1 \"))\n",
    "            num2 = int(input(\"masukan bilangan 2 \"))\n",
    "            total = m.pow(num1,num2)\n",
    "            print(f\"{num1}*{num2} = {total}\")\n",
    "            \n",
    "        elif piliharitmatika == 3:\n",
    "            num1 = int(input(\"masukan bilangan 1 \"))\n",
    "            num2 = int(input(\"masukan bilangan 1 \"))\n",
    "            total = m.multiplay(num1,num2)\n",
    "            print(f\"{num1}*{num2} = {total}\")\n",
    "         \n",
    "    elif pilihmenu == 2 :\n",
    "        menuconvert()\n",
    "        pilihconvert = int(input(\"isikan pilihan convert\"))\n",
    "            if pilihconvert == 1:\n",
    "                \n",
    "    else : \n",
    "        print(\"terimakasih\")\n",
    "        break"
   ]
  },
  {
   "cell_type": "code",
   "execution_count": null,
   "id": "e0605654-dcfe-4a7b-9d24-6d87c1fd87d8",
   "metadata": {},
   "outputs": [],
   "source": []
  }
 ],
 "metadata": {
  "kernelspec": {
   "display_name": "Python [conda env:base] *",
   "language": "python",
   "name": "conda-base-py"
  },
  "language_info": {
   "codemirror_mode": {
    "name": "ipython",
    "version": 3
   },
   "file_extension": ".py",
   "mimetype": "text/x-python",
   "name": "python",
   "nbconvert_exporter": "python",
   "pygments_lexer": "ipython3",
   "version": "3.12.7"
  }
 },
 "nbformat": 4,
 "nbformat_minor": 5
}
